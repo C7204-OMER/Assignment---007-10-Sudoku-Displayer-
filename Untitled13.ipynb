{
  "nbformat": 4,
  "nbformat_minor": 0,
  "metadata": {
    "colab": {
      "name": "Untitled13.ipynb",
      "provenance": [],
      "collapsed_sections": [],
      "authorship_tag": "ABX9TyOnZtMJNuHn2bdKFj4g81q3",
      "include_colab_link": true
    },
    "kernelspec": {
      "name": "python3",
      "display_name": "Python 3"
    }
  },
  "cells": [
    {
      "cell_type": "markdown",
      "metadata": {
        "id": "view-in-github",
        "colab_type": "text"
      },
      "source": [
        "<a href=\"https://colab.research.google.com/github/C7204-OMER/Assignment---007-10-Sudoku-Displayer-/blob/main/Untitled13.ipynb\" target=\"_parent\"><img src=\"https://colab.research.google.com/assets/colab-badge.svg\" alt=\"Open In Colab\"/></a>"
      ]
    },
    {
      "cell_type": "code",
      "metadata": {
        "id": "Gc7aHG3JBTy9"
      },
      "source": [
        "sudoku = [ \r\n",
        "    [0, 0, 0, 0, 6, 4, 0, 0, 0], \r\n",
        "    [7, 0, 0, 0, 0, 0, 3, 9, 0], \r\n",
        "    [8, 0, 0, 0, 0, 0, 0, 0, 0], \r\n",
        "    [0, 0, 0, 5, 0, 2, 0, 6, 0], \r\n",
        "    [0, 8, 0, 4, 0, 0, 0, 0, 0], \r\n",
        "    [3, 5, 0, 6, 0, 0, 0, 7, 0], \r\n",
        "    [0, 0, 2, 0, 0, 0, 1, 0, 3], \r\n",
        "    [0, 0, 1, 0, 5, 9, 0, 0, 0], \r\n",
        "    [0, 0, 0, 0, 0, 0, 7, 0, 0] \r\n",
        "]\r\n",
        "for i in sudoku:\r\n",
        "\r\n",
        "  for j in range(9):\r\n",
        "    if j==8:\r\n",
        "      print(i[j],\" \", end=\"\\n\")\r\n",
        "    elif j % 3==0 and j>1:\r\n",
        "      print(\" | \",i [j],end=\" \")\r\n",
        "    else:\r\n",
        "      print(i [j],end=\" \")\r\n",
        "  if (sudoku.index(i)+1)%3==0:\r\n",
        "    print(\"- - - - - - - - - - - - - \")"
      ],
      "execution_count": null,
      "outputs": []
    }
  ]
}